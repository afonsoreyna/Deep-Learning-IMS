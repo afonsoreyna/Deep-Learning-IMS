{
  "cells": [
    {
      "attachments": {},
      "cell_type": "markdown",
      "metadata": {},
      "source": [
        "# Model Hyperparameter Search"
      ]
    },
    {
      "cell_type": "markdown",
      "metadata": {
        "id": "IhIeflfBRKxo"
      },
      "source": [
        "Afonso Lavado | 20220631@novaims.unl.pt\n",
        "\n",
        "Afonso Reyna | 20191197@novaims.unl.pt\n",
        "\n",
        "Fernando Cruz | 20220646@novaims.unl.pt\n",
        "\n",
        "Mariana Rodrigues | 20220627@novaims.unl.pt\n",
        "\n",
        "Pedro Fernandes | 20220592@novaims.unl.pt \n",
        "\n",
        "Data Source | https://drive.google.com/file/d/1bs3GM_j9XScOEm-mNOG3ZEYg7-NVTc1C/view?usp=share_link"
      ]
    },
    {
      "attachments": {},
      "cell_type": "markdown",
      "metadata": {},
      "source": [
        "In this Jupyter notebook, we will be exploring the process of hyperparameter tuning using the Keras Tuner package to improve the performance of a deep learning model. We will be building upon the work we previously did, where we developed several deep learning models for the image dataset at hand and identified the best performing model based on evaluation metrics.\n",
        "\n",
        "Hyperparameter tuning is the process of searching for the optimal combination of hyperparameters that will result in the best model performance. Keras Tuner is a powerful Python library that provides a framework for performing this search. By using Keras Tuner, we can automate the process of trying out different combinations of hyperparameters and quickly identify the combination that results in the best model performance.\n",
        "\n",
        "In this notebook, we will first load and preprocess the data that we will be using for our task. Then, we will select the best performing model from our previous work and define its architecture. After that, we will use Keras Tuner to search for the optimal hyperparameters for this model. Finally, we will evaluate the performance of the tuned model using performance measures (precision / recall / accuracy / f1 score) as well as the confusion matrix."
      ]
    },
    {
      "cell_type": "markdown",
      "metadata": {
        "id": "_f4BvIJ8idJa"
      },
      "source": [
        "## 1 - Imports / Preprocess"
      ]
    },
    {
      "cell_type": "code",
      "execution_count": null,
      "metadata": {
        "id": "Ja-Xqc7Qj-sn"
      },
      "outputs": [],
      "source": [
        "pip install keras_tuner"
      ]
    },
    {
      "cell_type": "code",
      "execution_count": 4,
      "metadata": {
        "id": "BLuR310v953k"
      },
      "outputs": [],
      "source": [
        "import tensorflow as tf\n",
        "from tensorflow.keras import datasets\n",
        "from tensorflow.keras.preprocessing import image_dataset_from_directory\n",
        "\n",
        "import numpy as np\n",
        "import pandas as pd\n",
        "\n",
        "import zipfile\n",
        "import time\n",
        "import shutil\n",
        "import os\n",
        "import gdown\n",
        "import random\n",
        "\n",
        "import matplotlib.pyplot as plt\n",
        "import matplotlib.image as mpimg\n",
        "import keras_tuner as kt\n",
        "\n",
        "#extra\n",
        "import tensorflow as tf\n",
        "from tensorflow import keras\n",
        "from tensorflow.keras import datasets, layers\n",
        "from tensorflow.keras.preprocessing import image_dataset_from_directory, image\n",
        "from tensorflow.keras.preprocessing.image import ImageDataGenerator\n",
        "from tensorflow.keras.applications.inception_resnet_v2 import InceptionResNetV2, preprocess_input\n",
        "from tensorflow.keras.applications.mobilenet_v2 import preprocess_input\n",
        "from tensorflow.keras.layers import Dense, Dropout, Activation, Flatten, GlobalAveragePooling2D\n",
        "from tensorflow.keras.models import Model, Sequential\n",
        "from tensorflow.keras.optimizers import Adam, RMSprop\n",
        "from tensorflow.keras.applications import EfficientNetB0\n",
        "from tensorflow.keras.applications import InceptionV3\n",
        "from keras import regularizers"
      ]
    },
    {
      "cell_type": "code",
      "execution_count": null,
      "metadata": {
        "id": "qEEqlc_RSBI9"
      },
      "outputs": [],
      "source": [
        "#The next two cells are distinct methods of downloading the data, choose only 1\n",
        "\n",
        "#Downloading the Dataset directly from google drive link (prevents if done several times)\n",
        "!gdown --fuzzy https://drive.google.com/file/d/1bs3GM_j9XScOEm-mNOG3ZEYg7-NVTc1C/view?usp=share_link\n",
        "\n",
        "#Extracting the Dataset to Content\n",
        "zip_ = zipfile.ZipFile('Sports10_clean.zip')\n",
        "zip_.extractall()\n",
        "zip_.close()"
      ]
    },
    {
      "cell_type": "code",
      "execution_count": 5,
      "metadata": {
        "colab": {
          "base_uri": "https://localhost:8080/"
        },
        "id": "Qr6VL7oB3cbO",
        "outputId": "d187b217-b864-42d0-ddfd-7df810da62ac"
      },
      "outputs": [
        {
          "name": "stdout",
          "output_type": "stream",
          "text": [
            "Mounted at /content/gdrive\n"
          ]
        }
      ],
      "source": [
        "#Download the dataset from personal drive folder \n",
        "from google.colab import drive\n",
        "drive.mount('/content/gdrive')\n",
        "\n",
        "!unzip -q gdrive/My\\Drive/DL/Sports10_clean.zip"
      ]
    },
    {
      "cell_type": "code",
      "execution_count": 6,
      "metadata": {
        "id": "vI4OwzFkQ1hQ"
      },
      "outputs": [],
      "source": [
        "#Defining the path to the folder\n",
        "path = \"/content/content/\"\n",
        "main_folder, training_folder, testing_folder = \"Sports10_clean/\", \"training_set/\", \"test_set/\""
      ]
    },
    {
      "cell_type": "code",
      "execution_count": 7,
      "metadata": {
        "id": "8eVGGoi4CO6l"
      },
      "outputs": [],
      "source": [
        "image_size=(128, 128)\n",
        "crop_to_aspect_ratio=True\n",
        "color_mode='rgb'\n",
        "batch_size= 256\n",
        "label_mode=\"categorical\"\n",
        "validation_split=0.3\n",
        "shuffle=True\n",
        "seed=0\n",
        "num_classes = 10"
      ]
    },
    {
      "cell_type": "code",
      "execution_count": 8,
      "metadata": {
        "id": "aCdD_dODCQkD"
      },
      "outputs": [],
      "source": [
        "rmdir /content/content/Sports10_clean/test_set/\".ipynb_checkpoints\""
      ]
    },
    {
      "cell_type": "code",
      "execution_count": 9,
      "metadata": {
        "id": "4aPGiwL3CSiI"
      },
      "outputs": [],
      "source": [
        "rmdir /content/content/Sports10_clean/training_set/\".ipynb_checkpoints\""
      ]
    },
    {
      "cell_type": "code",
      "execution_count": 10,
      "metadata": {
        "colab": {
          "base_uri": "https://localhost:8080/"
        },
        "id": "k0Mp9li1CVVr",
        "outputId": "b580622e-e0b6-417a-9940-421c46fab3c0"
      },
      "outputs": [
        {
          "name": "stdout",
          "output_type": "stream",
          "text": [
            "Found 72552 files belonging to 10 classes.\n",
            "Using 50787 files for training.\n",
            "Using 21765 files for validation.\n",
            "\n",
            "Object's type:\t <class 'tensorflow.python.data.ops.batch_op._BatchDataset'>\n",
            "Is it a tf.data.Dataset?\t R: True\n",
            "Classes: ['AmericanFootball', 'Basketball', 'BikeRacing', 'CarRacing', 'Fighting', 'Hockey', 'Soccer', 'TableTennis', 'Tennis', 'Volleyball']\n"
          ]
        }
      ],
      "source": [
        "# Generate an object of type tf.data.Dataset \n",
        "ds_train, ds_val = image_dataset_from_directory(path + main_folder + training_folder, \n",
        "                                                image_size=image_size,\n",
        "                                                crop_to_aspect_ratio=crop_to_aspect_ratio,\n",
        "                                                color_mode=color_mode,\n",
        "                                                batch_size=batch_size,\n",
        "                                                labels = \"inferred\",\n",
        "                                                label_mode=label_mode, # categorical\n",
        "                                                subset='both',\n",
        "                                                validation_split=validation_split, \n",
        "                                                shuffle=shuffle,\n",
        "                                                seed=seed\n",
        "                                                )\n",
        "# Check object properties\n",
        "print(\"\\nObject's type:\\t\", type(ds_train))\n",
        "print(\"Is it a tf.data.Dataset?\\t R:\",isinstance(ds_train, tf.data.Dataset))\n",
        "print(\"Classes:\", ds_train.class_names)"
      ]
    },
    {
      "cell_type": "code",
      "execution_count": 11,
      "metadata": {
        "colab": {
          "base_uri": "https://localhost:8080/"
        },
        "id": "PvTwjIhFCa5U",
        "outputId": "6a8587d6-9c6e-42d0-f227-d8d896899a10"
      },
      "outputs": [
        {
          "name": "stdout",
          "output_type": "stream",
          "text": [
            "Found 27448 files belonging to 10 classes.\n"
          ]
        }
      ],
      "source": [
        "#Generate test dataset\n",
        "ds_test = image_dataset_from_directory(path + main_folder + testing_folder, \n",
        "                                       image_size=image_size,\n",
        "                                       crop_to_aspect_ratio=crop_to_aspect_ratio,\n",
        "                                       color_mode=color_mode,\n",
        "                                       batch_size=batch_size,\n",
        "                                       label_mode=label_mode,                                     \n",
        "                                       shuffle=shuffle,\n",
        "                                       seed=seed)"
      ]
    },
    {
      "cell_type": "markdown",
      "metadata": {
        "id": "bhpJYPlVinFo"
      },
      "source": [
        "## 2 - Modeling"
      ]
    },
    {
      "cell_type": "code",
      "execution_count": null,
      "metadata": {
        "id": "IGnCBJQO8RZU"
      },
      "outputs": [],
      "source": [
        "# # This is the model that we want to apply hyperparameter optimization to\n",
        "\n",
        "# preprocess = Sequential([layers.Rescaling(1./255)], name=\"preprocessing\")\n",
        "\n",
        "# cnn_winner = Sequential([\n",
        "#                    preprocess,\n",
        "#                    layers.Conv2D(16, (3, 3), activation='sigmoid', input_shape=(128, 128, 3), name='conv1'),\n",
        "#                    layers.BatchNormalization(),\n",
        "#                    layers.MaxPooling2D((2, 2)),\n",
        "                   \n",
        "#                    layers.Conv2D(32, (3, 3), activation='sigmoid', name='conv2'),\n",
        "#                    layers.BatchNormalization(),\n",
        "#                    layers.MaxPooling2D((2, 2)),\n",
        "                   \n",
        "#                    layers.Conv2D(64, (3, 3), activation='sigmoid', name='conv3'),\n",
        "#                    layers.BatchNormalization(),\n",
        "#                    layers.MaxPooling2D((2, 2)),\n",
        "                   \n",
        "#                    layers.Conv2D(128, (3, 3), activation='sigmoid', name='conv4'),\n",
        "#                    layers.BatchNormalization(),\n",
        "#                    layers.MaxPooling2D((2, 2)),\n",
        "                   \n",
        "#                    layers.Flatten(),\n",
        "                   \n",
        "#                    layers.Dropout(0.2),\n",
        "                   \n",
        "#                    layers.Dense(128, activation='sigmoid', name='dense1'),\n",
        "#                    layers.Dropout(0.2),\n",
        "                   \n",
        "#                    layers.Dense(64, activation='sigmoid', name='dense2'),\n",
        "                   \n",
        "#                    layers.Dense(10, activation='softmax', name='output')\n",
        "#                    ],\n",
        "#                   name = 'CNN-Winner')\n",
        "\n",
        "# cnn_winner.compile(optimizer='adam', loss='categorical_crossentropy', metrics=['accuracy'])"
      ]
    },
    {
      "cell_type": "markdown",
      "metadata": {
        "id": "gfIGXYOEtAi1"
      },
      "source": [
        "---\n",
        "\n",
        "The `Build_Model()` function below creates the pipeline to apply hyperparameter tuning to the optimal model above. It takes as argument the function `hp` that allows to create a range of values through which the tuner will iterate over.\n",
        "\n",
        "---"
      ]
    },
    {
      "cell_type": "code",
      "execution_count": null,
      "metadata": {
        "id": "apHh4illkPH5"
      },
      "outputs": [],
      "source": [
        "def build_model(hp):\n",
        "    preprocess = Sequential([layers.Rescaling(1./255)], name=\"preprocessing\")\n",
        "    # Initialize sequential API and start building model.\n",
        "    model = keras.Sequential()\n",
        "    model.add(preprocess)\n",
        "\n",
        "    #input Layer\n",
        "    model.add(layers.Conv2D(16, (3, 3), activation='sigmoid', input_shape=(128, 128, 3), name='conv1')),\n",
        "    model.add(layers.BatchNormalization())\n",
        "    model.add(layers.MaxPooling2D((2, 2)))\n",
        "    \n",
        "    #Conv 2D layers\n",
        "    model.add(layers.Conv2D(filters=hp.Int('conv_1_filter', min_value=32, max_value=64, step=16), \n",
        "                            kernel_size = (3, 3), activation='sigmoid', input_shape=(128, 128, 3), \n",
        "                            name='conv2'))\n",
        "    model.add(layers.BatchNormalization())\n",
        "    model.add(layers.MaxPooling2D((2, 2)))\n",
        "\n",
        "    model.add(layers.Conv2D(filters=hp.Int('conv_2_filter', min_value=64, max_value=128, step=16), \n",
        "                            kernel_size = (3, 3), activation='sigmoid', input_shape=(128, 128, 3), \n",
        "                            name='conv3'))\n",
        "    model.add(layers.BatchNormalization())\n",
        "    model.add(layers.MaxPooling2D((2, 2)))\n",
        "\n",
        "    model.add(layers.Conv2D(filters=hp.Int('conv_3_filter', min_value=128, max_value=256, step=16), \n",
        "                            kernel_size = (3, 3), activation='sigmoid', input_shape=(128, 128, 3), \n",
        "                            name='conv4'))\n",
        "    model.add(layers.BatchNormalization())\n",
        "    model.add(layers.MaxPooling2D((2, 2)))\n",
        "\n",
        "    #Flatten\n",
        "    model.add(layers.Flatten())\n",
        "    model.add(layers.Dropout(hp.Float(\"dropout_1\" , 0, 0.3, step=0.1)))\n",
        "\n",
        "    #Dense\n",
        "    model.add(layers.Dense(units=hp.Int(\"units_1\", min_value=32, max_value=512, step=32), \n",
        "                           activation='sigmoid', name='dense1'))\n",
        "    model.add(layers.Dropout(hp.Float(\"dropout_2\", 0, 0.3, step=0.1)))\n",
        "\n",
        "    model.add(layers.Dense(units=hp.Int(\"units_2\", min_value=32, max_value=512, step=32), \n",
        "                           activation='sigmoid', name='dense2'))\n",
        "\n",
        "    #Output \n",
        "    model.add(layers.Dense(10, activation='softmax', name='output'))\n",
        "    \n",
        "    # Define optimizer, loss, and metrics\n",
        "    model.compile(optimizer='adam', loss='categorical_crossentropy', metrics=['accuracy'])\n",
        "    \n",
        "    return model"
      ]
    },
    {
      "attachments": {},
      "cell_type": "markdown",
      "metadata": {},
      "source": [
        "## 3 - Tuning"
      ]
    },
    {
      "cell_type": "code",
      "execution_count": null,
      "metadata": {
        "id": "bKw3n0ArHb3z"
      },
      "outputs": [],
      "source": [
        "# Instantiate the tuner\n",
        "tuner = kt.RandomSearch(build_model,\n",
        "                          objective= kt.Objective(\"val_accuracy\", direction=\"max\"),\n",
        "                          directory=\"Keras Tuner\",\n",
        "                          overwrite=True,                        \n",
        "                          executions_per_trial=1, \n",
        "                          max_trials=8,\n",
        "                          seed=seed)"
      ]
    },
    {
      "cell_type": "code",
      "execution_count": null,
      "metadata": {
        "colab": {
          "base_uri": "https://localhost:8080/"
        },
        "id": "Ni8ZbiZsIRfo",
        "outputId": "113f0fe9-40e2-44e9-cba2-63be596ffdc3"
      },
      "outputs": [
        {
          "name": "stdout",
          "output_type": "stream",
          "text": [
            "Search space summary\n",
            "Default search space size: 7\n",
            "conv_1_filter (Int)\n",
            "{'default': None, 'conditions': [], 'min_value': 32, 'max_value': 64, 'step': 16, 'sampling': 'linear'}\n",
            "conv_2_filter (Int)\n",
            "{'default': None, 'conditions': [], 'min_value': 64, 'max_value': 128, 'step': 16, 'sampling': 'linear'}\n",
            "conv_3_filter (Int)\n",
            "{'default': None, 'conditions': [], 'min_value': 128, 'max_value': 256, 'step': 16, 'sampling': 'linear'}\n",
            "dropout_1 (Float)\n",
            "{'default': 0.0, 'conditions': [], 'min_value': 0.0, 'max_value': 0.3, 'step': 0.1, 'sampling': 'linear'}\n",
            "units_1 (Int)\n",
            "{'default': None, 'conditions': [], 'min_value': 32, 'max_value': 512, 'step': 32, 'sampling': 'linear'}\n",
            "dropout_2 (Float)\n",
            "{'default': 0.0, 'conditions': [], 'min_value': 0.0, 'max_value': 0.3, 'step': 0.1, 'sampling': 'linear'}\n",
            "units_2 (Int)\n",
            "{'default': None, 'conditions': [], 'min_value': 32, 'max_value': 512, 'step': 32, 'sampling': 'linear'}\n"
          ]
        }
      ],
      "source": [
        "tuner.search_space_summary()"
      ]
    },
    {
      "cell_type": "markdown",
      "metadata": {
        "id": "v1GAv6IQt2vU"
      },
      "source": [
        "---\n",
        "\n",
        "The search method below is very computationally expensive, as it iterates through the epochs over 8 max trials in each. Therefore, we opted for 5 epochs as the accuracy converged to satisfying numbers very early (close to 0.99 in validation)\n",
        "\n",
        "---\n",
        "\n"
      ]
    },
    {
      "cell_type": "code",
      "execution_count": null,
      "metadata": {
        "colab": {
          "base_uri": "https://localhost:8080/",
          "height": 854
        },
        "id": "x8RjPWFDIWdX",
        "outputId": "0e5fa9b2-3dd1-45f7-b6cc-a0a39b6c9dbd"
      },
      "outputs": [
        {
          "name": "stdout",
          "output_type": "stream",
          "text": [
            "Trial 5 Complete [00h 03m 45s]\n",
            "val_accuracy: 0.9936595559120178\n",
            "\n",
            "Best val_accuracy So Far: 0.9960946440696716\n",
            "Total elapsed time: 00h 18m 51s\n",
            "\n",
            "Search: Running Trial #6\n",
            "\n",
            "Value             |Best Value So Far |Hyperparameter\n",
            "32                |32                |conv_1_filter\n",
            "112               |96                |conv_2_filter\n",
            "176               |224               |conv_3_filter\n",
            "0                 |0.1               |dropout_1\n",
            "32                |224               |units_1\n",
            "0                 |0.2               |dropout_2\n",
            "288               |64                |units_2\n",
            "\n",
            "Epoch 1/5\n",
            "199/199 [==============================] - 48s 215ms/step - loss: 0.8767 - accuracy: 0.8405 - val_loss: 3.1045 - val_accuracy: 0.1028\n",
            "Epoch 2/5\n",
            "199/199 [==============================] - 44s 217ms/step - loss: 0.0829 - accuracy: 0.9895 - val_loss: 1.1425 - val_accuracy: 0.6526\n",
            "Epoch 3/5\n",
            "199/199 [==============================] - 44s 214ms/step - loss: 0.0344 - accuracy: 0.9945 - val_loss: 0.0990 - val_accuracy: 0.9728\n",
            "Epoch 4/5\n",
            "199/199 [==============================] - 44s 215ms/step - loss: 0.0236 - accuracy: 0.9954 - val_loss: 0.0609 - val_accuracy: 0.9822\n",
            "Epoch 5/5\n",
            "124/199 [=================>............] - ETA: 11s - loss: 0.0148 - accuracy: 0.9972"
          ]
        },
        {
          "ename": "KeyboardInterrupt",
          "evalue": "ignored",
          "output_type": "error",
          "traceback": [
            "\u001b[0;31m---------------------------------------------------------------------------\u001b[0m",
            "\u001b[0;31mKeyboardInterrupt\u001b[0m                         Traceback (most recent call last)",
            "\u001b[0;32m<ipython-input-22-45513ea4ef1b>\u001b[0m in \u001b[0;36m<cell line: 1>\u001b[0;34m()\u001b[0m\n\u001b[0;32m----> 1\u001b[0;31m tuner.search(ds_train, \n\u001b[0m\u001b[1;32m      2\u001b[0m              \u001b[0mepochs\u001b[0m \u001b[0;34m=\u001b[0m \u001b[0;36m5\u001b[0m\u001b[0;34m,\u001b[0m\u001b[0;34m\u001b[0m\u001b[0;34m\u001b[0m\u001b[0m\n\u001b[1;32m      3\u001b[0m              \u001b[0mvalidation_data\u001b[0m\u001b[0;34m=\u001b[0m\u001b[0mds_val\u001b[0m\u001b[0;34m\u001b[0m\u001b[0;34m\u001b[0m\u001b[0m\n\u001b[1;32m      4\u001b[0m             )\n",
            "\u001b[0;32m/usr/local/lib/python3.9/dist-packages/keras_tuner/engine/base_tuner.py\u001b[0m in \u001b[0;36msearch\u001b[0;34m(self, *fit_args, **fit_kwargs)\u001b[0m\n\u001b[1;32m    228\u001b[0m \u001b[0;34m\u001b[0m\u001b[0m\n\u001b[1;32m    229\u001b[0m             \u001b[0mself\u001b[0m\u001b[0;34m.\u001b[0m\u001b[0mon_trial_begin\u001b[0m\u001b[0;34m(\u001b[0m\u001b[0mtrial\u001b[0m\u001b[0;34m)\u001b[0m\u001b[0;34m\u001b[0m\u001b[0;34m\u001b[0m\u001b[0m\n\u001b[0;32m--> 230\u001b[0;31m             \u001b[0mself\u001b[0m\u001b[0;34m.\u001b[0m\u001b[0m_try_run_and_update_trial\u001b[0m\u001b[0;34m(\u001b[0m\u001b[0mtrial\u001b[0m\u001b[0;34m,\u001b[0m \u001b[0;34m*\u001b[0m\u001b[0mfit_args\u001b[0m\u001b[0;34m,\u001b[0m \u001b[0;34m**\u001b[0m\u001b[0mfit_kwargs\u001b[0m\u001b[0;34m)\u001b[0m\u001b[0;34m\u001b[0m\u001b[0;34m\u001b[0m\u001b[0m\n\u001b[0m\u001b[1;32m    231\u001b[0m             \u001b[0mself\u001b[0m\u001b[0;34m.\u001b[0m\u001b[0mon_trial_end\u001b[0m\u001b[0;34m(\u001b[0m\u001b[0mtrial\u001b[0m\u001b[0;34m)\u001b[0m\u001b[0;34m\u001b[0m\u001b[0;34m\u001b[0m\u001b[0m\n\u001b[1;32m    232\u001b[0m         \u001b[0mself\u001b[0m\u001b[0;34m.\u001b[0m\u001b[0mon_search_end\u001b[0m\u001b[0;34m(\u001b[0m\u001b[0;34m)\u001b[0m\u001b[0;34m\u001b[0m\u001b[0;34m\u001b[0m\u001b[0m\n",
            "\u001b[0;32m/usr/local/lib/python3.9/dist-packages/keras_tuner/engine/base_tuner.py\u001b[0m in \u001b[0;36m_try_run_and_update_trial\u001b[0;34m(self, trial, *fit_args, **fit_kwargs)\u001b[0m\n\u001b[1;32m    268\u001b[0m     \u001b[0;32mdef\u001b[0m \u001b[0m_try_run_and_update_trial\u001b[0m\u001b[0;34m(\u001b[0m\u001b[0mself\u001b[0m\u001b[0;34m,\u001b[0m \u001b[0mtrial\u001b[0m\u001b[0;34m,\u001b[0m \u001b[0;34m*\u001b[0m\u001b[0mfit_args\u001b[0m\u001b[0;34m,\u001b[0m \u001b[0;34m**\u001b[0m\u001b[0mfit_kwargs\u001b[0m\u001b[0;34m)\u001b[0m\u001b[0;34m:\u001b[0m\u001b[0;34m\u001b[0m\u001b[0;34m\u001b[0m\u001b[0m\n\u001b[1;32m    269\u001b[0m         \u001b[0;32mtry\u001b[0m\u001b[0;34m:\u001b[0m\u001b[0;34m\u001b[0m\u001b[0;34m\u001b[0m\u001b[0m\n\u001b[0;32m--> 270\u001b[0;31m             \u001b[0mself\u001b[0m\u001b[0;34m.\u001b[0m\u001b[0m_run_and_update_trial\u001b[0m\u001b[0;34m(\u001b[0m\u001b[0mtrial\u001b[0m\u001b[0;34m,\u001b[0m \u001b[0;34m*\u001b[0m\u001b[0mfit_args\u001b[0m\u001b[0;34m,\u001b[0m \u001b[0;34m**\u001b[0m\u001b[0mfit_kwargs\u001b[0m\u001b[0;34m)\u001b[0m\u001b[0;34m\u001b[0m\u001b[0;34m\u001b[0m\u001b[0m\n\u001b[0m\u001b[1;32m    271\u001b[0m             \u001b[0mtrial\u001b[0m\u001b[0;34m.\u001b[0m\u001b[0mstatus\u001b[0m \u001b[0;34m=\u001b[0m \u001b[0mtrial_module\u001b[0m\u001b[0;34m.\u001b[0m\u001b[0mTrialStatus\u001b[0m\u001b[0;34m.\u001b[0m\u001b[0mCOMPLETED\u001b[0m\u001b[0;34m\u001b[0m\u001b[0;34m\u001b[0m\u001b[0m\n\u001b[1;32m    272\u001b[0m             \u001b[0;32mreturn\u001b[0m\u001b[0;34m\u001b[0m\u001b[0;34m\u001b[0m\u001b[0m\n",
            "\u001b[0;32m/usr/local/lib/python3.9/dist-packages/keras_tuner/engine/base_tuner.py\u001b[0m in \u001b[0;36m_run_and_update_trial\u001b[0;34m(self, trial, *fit_args, **fit_kwargs)\u001b[0m\n\u001b[1;32m    233\u001b[0m \u001b[0;34m\u001b[0m\u001b[0m\n\u001b[1;32m    234\u001b[0m     \u001b[0;32mdef\u001b[0m \u001b[0m_run_and_update_trial\u001b[0m\u001b[0;34m(\u001b[0m\u001b[0mself\u001b[0m\u001b[0;34m,\u001b[0m \u001b[0mtrial\u001b[0m\u001b[0;34m,\u001b[0m \u001b[0;34m*\u001b[0m\u001b[0mfit_args\u001b[0m\u001b[0;34m,\u001b[0m \u001b[0;34m**\u001b[0m\u001b[0mfit_kwargs\u001b[0m\u001b[0;34m)\u001b[0m\u001b[0;34m:\u001b[0m\u001b[0;34m\u001b[0m\u001b[0;34m\u001b[0m\u001b[0m\n\u001b[0;32m--> 235\u001b[0;31m         \u001b[0mresults\u001b[0m \u001b[0;34m=\u001b[0m \u001b[0mself\u001b[0m\u001b[0;34m.\u001b[0m\u001b[0mrun_trial\u001b[0m\u001b[0;34m(\u001b[0m\u001b[0mtrial\u001b[0m\u001b[0;34m,\u001b[0m \u001b[0;34m*\u001b[0m\u001b[0mfit_args\u001b[0m\u001b[0;34m,\u001b[0m \u001b[0;34m**\u001b[0m\u001b[0mfit_kwargs\u001b[0m\u001b[0;34m)\u001b[0m\u001b[0;34m\u001b[0m\u001b[0;34m\u001b[0m\u001b[0m\n\u001b[0m\u001b[1;32m    236\u001b[0m         if self.oracle.get_trial(trial.trial_id).metrics.exists(\n\u001b[1;32m    237\u001b[0m             \u001b[0mself\u001b[0m\u001b[0;34m.\u001b[0m\u001b[0moracle\u001b[0m\u001b[0;34m.\u001b[0m\u001b[0mobjective\u001b[0m\u001b[0;34m.\u001b[0m\u001b[0mname\u001b[0m\u001b[0;34m\u001b[0m\u001b[0;34m\u001b[0m\u001b[0m\n",
            "\u001b[0;32m/usr/local/lib/python3.9/dist-packages/keras_tuner/engine/tuner.py\u001b[0m in \u001b[0;36mrun_trial\u001b[0;34m(self, trial, *args, **kwargs)\u001b[0m\n\u001b[1;32m    285\u001b[0m             \u001b[0mcallbacks\u001b[0m\u001b[0;34m.\u001b[0m\u001b[0mappend\u001b[0m\u001b[0;34m(\u001b[0m\u001b[0mmodel_checkpoint\u001b[0m\u001b[0;34m)\u001b[0m\u001b[0;34m\u001b[0m\u001b[0;34m\u001b[0m\u001b[0m\n\u001b[1;32m    286\u001b[0m             \u001b[0mcopied_kwargs\u001b[0m\u001b[0;34m[\u001b[0m\u001b[0;34m\"callbacks\"\u001b[0m\u001b[0;34m]\u001b[0m \u001b[0;34m=\u001b[0m \u001b[0mcallbacks\u001b[0m\u001b[0;34m\u001b[0m\u001b[0;34m\u001b[0m\u001b[0m\n\u001b[0;32m--> 287\u001b[0;31m             \u001b[0mobj_value\u001b[0m \u001b[0;34m=\u001b[0m \u001b[0mself\u001b[0m\u001b[0;34m.\u001b[0m\u001b[0m_build_and_fit_model\u001b[0m\u001b[0;34m(\u001b[0m\u001b[0mtrial\u001b[0m\u001b[0;34m,\u001b[0m \u001b[0;34m*\u001b[0m\u001b[0margs\u001b[0m\u001b[0;34m,\u001b[0m \u001b[0;34m**\u001b[0m\u001b[0mcopied_kwargs\u001b[0m\u001b[0;34m)\u001b[0m\u001b[0;34m\u001b[0m\u001b[0;34m\u001b[0m\u001b[0m\n\u001b[0m\u001b[1;32m    288\u001b[0m \u001b[0;34m\u001b[0m\u001b[0m\n\u001b[1;32m    289\u001b[0m             \u001b[0mhistories\u001b[0m\u001b[0;34m.\u001b[0m\u001b[0mappend\u001b[0m\u001b[0;34m(\u001b[0m\u001b[0mobj_value\u001b[0m\u001b[0;34m)\u001b[0m\u001b[0;34m\u001b[0m\u001b[0;34m\u001b[0m\u001b[0m\n",
            "\u001b[0;32m/usr/local/lib/python3.9/dist-packages/keras_tuner/engine/tuner.py\u001b[0m in \u001b[0;36m_build_and_fit_model\u001b[0;34m(self, trial, *args, **kwargs)\u001b[0m\n\u001b[1;32m    212\u001b[0m         \u001b[0mhp\u001b[0m \u001b[0;34m=\u001b[0m \u001b[0mtrial\u001b[0m\u001b[0;34m.\u001b[0m\u001b[0mhyperparameters\u001b[0m\u001b[0;34m\u001b[0m\u001b[0;34m\u001b[0m\u001b[0m\n\u001b[1;32m    213\u001b[0m         \u001b[0mmodel\u001b[0m \u001b[0;34m=\u001b[0m \u001b[0mself\u001b[0m\u001b[0;34m.\u001b[0m\u001b[0m_try_build\u001b[0m\u001b[0;34m(\u001b[0m\u001b[0mhp\u001b[0m\u001b[0;34m)\u001b[0m\u001b[0;34m\u001b[0m\u001b[0;34m\u001b[0m\u001b[0m\n\u001b[0;32m--> 214\u001b[0;31m         \u001b[0mresults\u001b[0m \u001b[0;34m=\u001b[0m \u001b[0mself\u001b[0m\u001b[0;34m.\u001b[0m\u001b[0mhypermodel\u001b[0m\u001b[0;34m.\u001b[0m\u001b[0mfit\u001b[0m\u001b[0;34m(\u001b[0m\u001b[0mhp\u001b[0m\u001b[0;34m,\u001b[0m \u001b[0mmodel\u001b[0m\u001b[0;34m,\u001b[0m \u001b[0;34m*\u001b[0m\u001b[0margs\u001b[0m\u001b[0;34m,\u001b[0m \u001b[0;34m**\u001b[0m\u001b[0mkwargs\u001b[0m\u001b[0;34m)\u001b[0m\u001b[0;34m\u001b[0m\u001b[0;34m\u001b[0m\u001b[0m\n\u001b[0m\u001b[1;32m    215\u001b[0m         tuner_utils.validate_trial_results(\n\u001b[1;32m    216\u001b[0m             \u001b[0mresults\u001b[0m\u001b[0;34m,\u001b[0m \u001b[0mself\u001b[0m\u001b[0;34m.\u001b[0m\u001b[0moracle\u001b[0m\u001b[0;34m.\u001b[0m\u001b[0mobjective\u001b[0m\u001b[0;34m,\u001b[0m \u001b[0;34m\"HyperModel.fit()\"\u001b[0m\u001b[0;34m\u001b[0m\u001b[0;34m\u001b[0m\u001b[0m\n",
            "\u001b[0;32m/usr/local/lib/python3.9/dist-packages/keras_tuner/engine/hypermodel.py\u001b[0m in \u001b[0;36mfit\u001b[0;34m(self, hp, model, *args, **kwargs)\u001b[0m\n\u001b[1;32m    142\u001b[0m             \u001b[0mIf\u001b[0m \u001b[0;32mreturn\u001b[0m \u001b[0ma\u001b[0m \u001b[0mfloat\u001b[0m\u001b[0;34m,\u001b[0m \u001b[0mit\u001b[0m \u001b[0mshould\u001b[0m \u001b[0mbe\u001b[0m \u001b[0mthe\u001b[0m\u001b[0;31m \u001b[0m\u001b[0;31m`\u001b[0m\u001b[0mobjective\u001b[0m\u001b[0;31m`\u001b[0m \u001b[0mvalue\u001b[0m\u001b[0;34m.\u001b[0m\u001b[0;34m\u001b[0m\u001b[0;34m\u001b[0m\u001b[0m\n\u001b[1;32m    143\u001b[0m         \"\"\"\n\u001b[0;32m--> 144\u001b[0;31m         \u001b[0;32mreturn\u001b[0m \u001b[0mmodel\u001b[0m\u001b[0;34m.\u001b[0m\u001b[0mfit\u001b[0m\u001b[0;34m(\u001b[0m\u001b[0;34m*\u001b[0m\u001b[0margs\u001b[0m\u001b[0;34m,\u001b[0m \u001b[0;34m**\u001b[0m\u001b[0mkwargs\u001b[0m\u001b[0;34m)\u001b[0m\u001b[0;34m\u001b[0m\u001b[0;34m\u001b[0m\u001b[0m\n\u001b[0m\u001b[1;32m    145\u001b[0m \u001b[0;34m\u001b[0m\u001b[0m\n\u001b[1;32m    146\u001b[0m \u001b[0;34m\u001b[0m\u001b[0m\n",
            "\u001b[0;32m/usr/local/lib/python3.9/dist-packages/keras/utils/traceback_utils.py\u001b[0m in \u001b[0;36merror_handler\u001b[0;34m(*args, **kwargs)\u001b[0m\n\u001b[1;32m     63\u001b[0m         \u001b[0mfiltered_tb\u001b[0m \u001b[0;34m=\u001b[0m \u001b[0;32mNone\u001b[0m\u001b[0;34m\u001b[0m\u001b[0;34m\u001b[0m\u001b[0m\n\u001b[1;32m     64\u001b[0m         \u001b[0;32mtry\u001b[0m\u001b[0;34m:\u001b[0m\u001b[0;34m\u001b[0m\u001b[0;34m\u001b[0m\u001b[0m\n\u001b[0;32m---> 65\u001b[0;31m             \u001b[0;32mreturn\u001b[0m \u001b[0mfn\u001b[0m\u001b[0;34m(\u001b[0m\u001b[0;34m*\u001b[0m\u001b[0margs\u001b[0m\u001b[0;34m,\u001b[0m \u001b[0;34m**\u001b[0m\u001b[0mkwargs\u001b[0m\u001b[0;34m)\u001b[0m\u001b[0;34m\u001b[0m\u001b[0;34m\u001b[0m\u001b[0m\n\u001b[0m\u001b[1;32m     66\u001b[0m         \u001b[0;32mexcept\u001b[0m \u001b[0mException\u001b[0m \u001b[0;32mas\u001b[0m \u001b[0me\u001b[0m\u001b[0;34m:\u001b[0m\u001b[0;34m\u001b[0m\u001b[0;34m\u001b[0m\u001b[0m\n\u001b[1;32m     67\u001b[0m             \u001b[0mfiltered_tb\u001b[0m \u001b[0;34m=\u001b[0m \u001b[0m_process_traceback_frames\u001b[0m\u001b[0;34m(\u001b[0m\u001b[0me\u001b[0m\u001b[0;34m.\u001b[0m\u001b[0m__traceback__\u001b[0m\u001b[0;34m)\u001b[0m\u001b[0;34m\u001b[0m\u001b[0;34m\u001b[0m\u001b[0m\n",
            "\u001b[0;32m/usr/local/lib/python3.9/dist-packages/keras/engine/training.py\u001b[0m in \u001b[0;36mfit\u001b[0;34m(self, x, y, batch_size, epochs, verbose, callbacks, validation_split, validation_data, shuffle, class_weight, sample_weight, initial_epoch, steps_per_epoch, validation_steps, validation_batch_size, validation_freq, max_queue_size, workers, use_multiprocessing)\u001b[0m\n\u001b[1;32m   1683\u001b[0m                         ):\n\u001b[1;32m   1684\u001b[0m                             \u001b[0mcallbacks\u001b[0m\u001b[0;34m.\u001b[0m\u001b[0mon_train_batch_begin\u001b[0m\u001b[0;34m(\u001b[0m\u001b[0mstep\u001b[0m\u001b[0;34m)\u001b[0m\u001b[0;34m\u001b[0m\u001b[0;34m\u001b[0m\u001b[0m\n\u001b[0;32m-> 1685\u001b[0;31m                             \u001b[0mtmp_logs\u001b[0m \u001b[0;34m=\u001b[0m \u001b[0mself\u001b[0m\u001b[0;34m.\u001b[0m\u001b[0mtrain_function\u001b[0m\u001b[0;34m(\u001b[0m\u001b[0miterator\u001b[0m\u001b[0;34m)\u001b[0m\u001b[0;34m\u001b[0m\u001b[0;34m\u001b[0m\u001b[0m\n\u001b[0m\u001b[1;32m   1686\u001b[0m                             \u001b[0;32mif\u001b[0m \u001b[0mdata_handler\u001b[0m\u001b[0;34m.\u001b[0m\u001b[0mshould_sync\u001b[0m\u001b[0;34m:\u001b[0m\u001b[0;34m\u001b[0m\u001b[0;34m\u001b[0m\u001b[0m\n\u001b[1;32m   1687\u001b[0m                                 \u001b[0mcontext\u001b[0m\u001b[0;34m.\u001b[0m\u001b[0masync_wait\u001b[0m\u001b[0;34m(\u001b[0m\u001b[0;34m)\u001b[0m\u001b[0;34m\u001b[0m\u001b[0;34m\u001b[0m\u001b[0m\n",
            "\u001b[0;32m/usr/local/lib/python3.9/dist-packages/tensorflow/python/util/traceback_utils.py\u001b[0m in \u001b[0;36merror_handler\u001b[0;34m(*args, **kwargs)\u001b[0m\n\u001b[1;32m    148\u001b[0m     \u001b[0mfiltered_tb\u001b[0m \u001b[0;34m=\u001b[0m \u001b[0;32mNone\u001b[0m\u001b[0;34m\u001b[0m\u001b[0;34m\u001b[0m\u001b[0m\n\u001b[1;32m    149\u001b[0m     \u001b[0;32mtry\u001b[0m\u001b[0;34m:\u001b[0m\u001b[0;34m\u001b[0m\u001b[0;34m\u001b[0m\u001b[0m\n\u001b[0;32m--> 150\u001b[0;31m       \u001b[0;32mreturn\u001b[0m \u001b[0mfn\u001b[0m\u001b[0;34m(\u001b[0m\u001b[0;34m*\u001b[0m\u001b[0margs\u001b[0m\u001b[0;34m,\u001b[0m \u001b[0;34m**\u001b[0m\u001b[0mkwargs\u001b[0m\u001b[0;34m)\u001b[0m\u001b[0;34m\u001b[0m\u001b[0;34m\u001b[0m\u001b[0m\n\u001b[0m\u001b[1;32m    151\u001b[0m     \u001b[0;32mexcept\u001b[0m \u001b[0mException\u001b[0m \u001b[0;32mas\u001b[0m \u001b[0me\u001b[0m\u001b[0;34m:\u001b[0m\u001b[0;34m\u001b[0m\u001b[0;34m\u001b[0m\u001b[0m\n\u001b[1;32m    152\u001b[0m       \u001b[0mfiltered_tb\u001b[0m \u001b[0;34m=\u001b[0m \u001b[0m_process_traceback_frames\u001b[0m\u001b[0;34m(\u001b[0m\u001b[0me\u001b[0m\u001b[0;34m.\u001b[0m\u001b[0m__traceback__\u001b[0m\u001b[0;34m)\u001b[0m\u001b[0;34m\u001b[0m\u001b[0;34m\u001b[0m\u001b[0m\n",
            "\u001b[0;32m/usr/local/lib/python3.9/dist-packages/tensorflow/python/eager/polymorphic_function/polymorphic_function.py\u001b[0m in \u001b[0;36m__call__\u001b[0;34m(self, *args, **kwds)\u001b[0m\n\u001b[1;32m    892\u001b[0m \u001b[0;34m\u001b[0m\u001b[0m\n\u001b[1;32m    893\u001b[0m       \u001b[0;32mwith\u001b[0m \u001b[0mOptionalXlaContext\u001b[0m\u001b[0;34m(\u001b[0m\u001b[0mself\u001b[0m\u001b[0;34m.\u001b[0m\u001b[0m_jit_compile\u001b[0m\u001b[0;34m)\u001b[0m\u001b[0;34m:\u001b[0m\u001b[0;34m\u001b[0m\u001b[0;34m\u001b[0m\u001b[0m\n\u001b[0;32m--> 894\u001b[0;31m         \u001b[0mresult\u001b[0m \u001b[0;34m=\u001b[0m \u001b[0mself\u001b[0m\u001b[0;34m.\u001b[0m\u001b[0m_call\u001b[0m\u001b[0;34m(\u001b[0m\u001b[0;34m*\u001b[0m\u001b[0margs\u001b[0m\u001b[0;34m,\u001b[0m \u001b[0;34m**\u001b[0m\u001b[0mkwds\u001b[0m\u001b[0;34m)\u001b[0m\u001b[0;34m\u001b[0m\u001b[0;34m\u001b[0m\u001b[0m\n\u001b[0m\u001b[1;32m    895\u001b[0m \u001b[0;34m\u001b[0m\u001b[0m\n\u001b[1;32m    896\u001b[0m       \u001b[0mnew_tracing_count\u001b[0m \u001b[0;34m=\u001b[0m \u001b[0mself\u001b[0m\u001b[0;34m.\u001b[0m\u001b[0mexperimental_get_tracing_count\u001b[0m\u001b[0;34m(\u001b[0m\u001b[0;34m)\u001b[0m\u001b[0;34m\u001b[0m\u001b[0;34m\u001b[0m\u001b[0m\n",
            "\u001b[0;32m/usr/local/lib/python3.9/dist-packages/tensorflow/python/eager/polymorphic_function/polymorphic_function.py\u001b[0m in \u001b[0;36m_call\u001b[0;34m(self, *args, **kwds)\u001b[0m\n\u001b[1;32m    924\u001b[0m       \u001b[0;31m# In this case we have created variables on the first call, so we run the\u001b[0m\u001b[0;34m\u001b[0m\u001b[0;34m\u001b[0m\u001b[0m\n\u001b[1;32m    925\u001b[0m       \u001b[0;31m# defunned version which is guaranteed to never create variables.\u001b[0m\u001b[0;34m\u001b[0m\u001b[0;34m\u001b[0m\u001b[0m\n\u001b[0;32m--> 926\u001b[0;31m       \u001b[0;32mreturn\u001b[0m \u001b[0mself\u001b[0m\u001b[0;34m.\u001b[0m\u001b[0m_no_variable_creation_fn\u001b[0m\u001b[0;34m(\u001b[0m\u001b[0;34m*\u001b[0m\u001b[0margs\u001b[0m\u001b[0;34m,\u001b[0m \u001b[0;34m**\u001b[0m\u001b[0mkwds\u001b[0m\u001b[0;34m)\u001b[0m  \u001b[0;31m# pylint: disable=not-callable\u001b[0m\u001b[0;34m\u001b[0m\u001b[0;34m\u001b[0m\u001b[0m\n\u001b[0m\u001b[1;32m    927\u001b[0m     \u001b[0;32melif\u001b[0m \u001b[0mself\u001b[0m\u001b[0;34m.\u001b[0m\u001b[0m_variable_creation_fn\u001b[0m \u001b[0;32mis\u001b[0m \u001b[0;32mnot\u001b[0m \u001b[0;32mNone\u001b[0m\u001b[0;34m:\u001b[0m\u001b[0;34m\u001b[0m\u001b[0;34m\u001b[0m\u001b[0m\n\u001b[1;32m    928\u001b[0m       \u001b[0;31m# Release the lock early so that multiple threads can perform the call\u001b[0m\u001b[0;34m\u001b[0m\u001b[0;34m\u001b[0m\u001b[0m\n",
            "\u001b[0;32m/usr/local/lib/python3.9/dist-packages/tensorflow/python/eager/polymorphic_function/tracing_compiler.py\u001b[0m in \u001b[0;36m__call__\u001b[0;34m(self, *args, **kwargs)\u001b[0m\n\u001b[1;32m    141\u001b[0m       (concrete_function,\n\u001b[1;32m    142\u001b[0m        filtered_flat_args) = self._maybe_define_function(args, kwargs)\n\u001b[0;32m--> 143\u001b[0;31m     return concrete_function._call_flat(\n\u001b[0m\u001b[1;32m    144\u001b[0m         filtered_flat_args, captured_inputs=concrete_function.captured_inputs)  # pylint: disable=protected-access\n\u001b[1;32m    145\u001b[0m \u001b[0;34m\u001b[0m\u001b[0m\n",
            "\u001b[0;32m/usr/local/lib/python3.9/dist-packages/tensorflow/python/eager/polymorphic_function/monomorphic_function.py\u001b[0m in \u001b[0;36m_call_flat\u001b[0;34m(self, args, captured_inputs, cancellation_manager)\u001b[0m\n\u001b[1;32m   1755\u001b[0m         and executing_eagerly):\n\u001b[1;32m   1756\u001b[0m       \u001b[0;31m# No tape is watching; skip to running the function.\u001b[0m\u001b[0;34m\u001b[0m\u001b[0;34m\u001b[0m\u001b[0m\n\u001b[0;32m-> 1757\u001b[0;31m       return self._build_call_outputs(self._inference_function.call(\n\u001b[0m\u001b[1;32m   1758\u001b[0m           ctx, args, cancellation_manager=cancellation_manager))\n\u001b[1;32m   1759\u001b[0m     forward_backward = self._select_forward_and_backward_functions(\n",
            "\u001b[0;32m/usr/local/lib/python3.9/dist-packages/tensorflow/python/eager/polymorphic_function/monomorphic_function.py\u001b[0m in \u001b[0;36mcall\u001b[0;34m(self, ctx, args, cancellation_manager)\u001b[0m\n\u001b[1;32m    379\u001b[0m       \u001b[0;32mwith\u001b[0m \u001b[0m_InterpolateFunctionError\u001b[0m\u001b[0;34m(\u001b[0m\u001b[0mself\u001b[0m\u001b[0;34m)\u001b[0m\u001b[0;34m:\u001b[0m\u001b[0;34m\u001b[0m\u001b[0;34m\u001b[0m\u001b[0m\n\u001b[1;32m    380\u001b[0m         \u001b[0;32mif\u001b[0m \u001b[0mcancellation_manager\u001b[0m \u001b[0;32mis\u001b[0m \u001b[0;32mNone\u001b[0m\u001b[0;34m:\u001b[0m\u001b[0;34m\u001b[0m\u001b[0;34m\u001b[0m\u001b[0m\n\u001b[0;32m--> 381\u001b[0;31m           outputs = execute.execute(\n\u001b[0m\u001b[1;32m    382\u001b[0m               \u001b[0mstr\u001b[0m\u001b[0;34m(\u001b[0m\u001b[0mself\u001b[0m\u001b[0;34m.\u001b[0m\u001b[0msignature\u001b[0m\u001b[0;34m.\u001b[0m\u001b[0mname\u001b[0m\u001b[0;34m)\u001b[0m\u001b[0;34m,\u001b[0m\u001b[0;34m\u001b[0m\u001b[0;34m\u001b[0m\u001b[0m\n\u001b[1;32m    383\u001b[0m               \u001b[0mnum_outputs\u001b[0m\u001b[0;34m=\u001b[0m\u001b[0mself\u001b[0m\u001b[0;34m.\u001b[0m\u001b[0m_num_outputs\u001b[0m\u001b[0;34m,\u001b[0m\u001b[0;34m\u001b[0m\u001b[0;34m\u001b[0m\u001b[0m\n",
            "\u001b[0;32m/usr/local/lib/python3.9/dist-packages/tensorflow/python/eager/execute.py\u001b[0m in \u001b[0;36mquick_execute\u001b[0;34m(op_name, num_outputs, inputs, attrs, ctx, name)\u001b[0m\n\u001b[1;32m     50\u001b[0m   \u001b[0;32mtry\u001b[0m\u001b[0;34m:\u001b[0m\u001b[0;34m\u001b[0m\u001b[0;34m\u001b[0m\u001b[0m\n\u001b[1;32m     51\u001b[0m     \u001b[0mctx\u001b[0m\u001b[0;34m.\u001b[0m\u001b[0mensure_initialized\u001b[0m\u001b[0;34m(\u001b[0m\u001b[0;34m)\u001b[0m\u001b[0;34m\u001b[0m\u001b[0;34m\u001b[0m\u001b[0m\n\u001b[0;32m---> 52\u001b[0;31m     tensors = pywrap_tfe.TFE_Py_Execute(ctx._handle, device_name, op_name,\n\u001b[0m\u001b[1;32m     53\u001b[0m                                         inputs, attrs, num_outputs)\n\u001b[1;32m     54\u001b[0m   \u001b[0;32mexcept\u001b[0m \u001b[0mcore\u001b[0m\u001b[0;34m.\u001b[0m\u001b[0m_NotOkStatusException\u001b[0m \u001b[0;32mas\u001b[0m \u001b[0me\u001b[0m\u001b[0;34m:\u001b[0m\u001b[0;34m\u001b[0m\u001b[0;34m\u001b[0m\u001b[0m\n",
            "\u001b[0;31mKeyboardInterrupt\u001b[0m: "
          ]
        }
      ],
      "source": [
        "tuner.search(ds_train, epochs = 5, validation_data = ds_val)"
      ]
    },
    {
      "attachments": {},
      "cell_type": "markdown",
      "metadata": {
        "id": "Xki1Zc4LhCoP"
      },
      "source": [
        "**`NOTE`** The tunning process was interrupted manually at trial #6 due to satisfactory results and high running time/RAM usage, which is the origin of the error displayed"
      ]
    },
    {
      "cell_type": "code",
      "execution_count": null,
      "metadata": {
        "id": "vE_NBTG8u3rt"
      },
      "outputs": [],
      "source": [
        "# # These are the best hyperparameters obatined\n",
        "# Best Value        |Hyperparameter\n",
        "# 32                |conv_1_filter\n",
        "# 96                |conv_2_filter\n",
        "# 224               |conv_3_filter\n",
        "# 0.1               |dropout_1\n",
        "# 224               |units_1\n",
        "# 0.2               |dropout_2\n",
        "# 64                |units_2"
      ]
    },
    {
      "cell_type": "code",
      "execution_count": null,
      "metadata": {
        "colab": {
          "base_uri": "https://localhost:8080/"
        },
        "id": "CDaIpynw8asM",
        "outputId": "75f4a0b5-f2fe-41d1-fe03-11f1aaa2f040"
      },
      "outputs": [
        {
          "name": "stdout",
          "output_type": "stream",
          "text": [
            "Epoch 1/10\n",
            "199/199 [==============================] - 48s 215ms/step - loss: 0.0169 - accuracy: 0.9963 - val_loss: 0.0172 - val_accuracy: 0.9953\n",
            "Epoch 2/10\n",
            "199/199 [==============================] - 44s 217ms/step - loss: 0.0075 - accuracy: 0.9985 - val_loss: 0.0141 - val_accuracy: 0.9963\n",
            "Epoch 3/10\n",
            "199/199 [==============================] - 44s 216ms/step - loss: 0.0042 - accuracy: 0.9994 - val_loss: 0.0078 - val_accuracy: 0.9980\n",
            "Epoch 4/10\n",
            "199/199 [==============================] - 45s 219ms/step - loss: 0.0032 - accuracy: 0.9994 - val_loss: 0.0317 - val_accuracy: 0.9906\n",
            "Epoch 5/10\n",
            "199/199 [==============================] - 45s 217ms/step - loss: 0.0192 - accuracy: 0.9951 - val_loss: 0.0406 - val_accuracy: 0.9883\n"
          ]
        }
      ],
      "source": [
        "#Stopping function for training the models\n",
        "es = tf.keras.callbacks.EarlyStopping(monitor='val_accuracy', mode='max', patience=2, restore_best_weights=True)\n",
        "\n",
        "# Train the model that was output from the tuner (with the optimal hyperparameters)\n",
        "winner_model_hp = tuner.get_best_models(num_models=1)[0]\n",
        "best_hp = tuner.get_best_hyperparameters(num_trials=1)[0]\n",
        "\n",
        "history_winner = winner_model_hp.fit(ds_train, epochs=10, validation_data= ds_val, callbacks = [es])"
      ]
    },
    {
      "cell_type": "code",
      "execution_count": null,
      "metadata": {
        "colab": {
          "base_uri": "https://localhost:8080/"
        },
        "id": "8I77uhjtBeGt",
        "outputId": "3d795106-ce21-4a35-828b-41ef35bd969e"
      },
      "outputs": [
        {
          "name": "stdout",
          "output_type": "stream",
          "text": [
            "Test loss: 1.0866353511810303\n",
            "Test accuracy: 0.7639901041984558\n"
          ]
        }
      ],
      "source": [
        "#Obtain the score on the test dataset\n",
        "score = winner_model_hp.evaluate(ds_test, verbose=0)\n",
        "print('Test loss:', score[0])\n",
        "print('Test accuracy:', score[1])"
      ]
    },
    {
      "cell_type": "code",
      "execution_count": null,
      "metadata": {
        "id": "vgzjrKdUCBAZ"
      },
      "outputs": [],
      "source": [
        "# Export the model\n",
        "#winner_model_hp.save(\"winner_model_hp.h5\")"
      ]
    },
    {
      "cell_type": "code",
      "execution_count": null,
      "metadata": {
        "id": "J28NpoGYCpbW"
      },
      "outputs": [],
      "source": [
        "# Load a model externally\n",
        "#model = tf.keras.saving.load_model(\"/content/winner_model_hp.h5\")"
      ]
    },
    {
      "cell_type": "code",
      "execution_count": null,
      "metadata": {
        "colab": {
          "base_uri": "https://localhost:8080/"
        },
        "id": "ONBe5GydEDbY",
        "outputId": "bd0c43d6-87b9-4700-bca8-7a0891dd511a"
      },
      "outputs": [
        {
          "name": "stdout",
          "output_type": "stream",
          "text": [
            "108/108 [==============================] - 129s 1s/step - loss: 1.0867 - accuracy: 0.7640\n",
            "Test loss: 1.0866645574569702\n",
            "Test accuracy: 0.763953685760498\n"
          ]
        }
      ],
      "source": [
        "# score = model.evaluate(ds_test, verbose=1)\n",
        "# print('Test loss:', score[0])\n",
        "# print('Test accuracy:', score[1])"
      ]
    },
    {
      "cell_type": "code",
      "execution_count": 12,
      "metadata": {
        "colab": {
          "base_uri": "https://localhost:8080/"
        },
        "id": "OSiPaPN0HVfk",
        "outputId": "dba811a6-00c7-4957-eb38-a7b2993256aa"
      },
      "outputs": [
        {
          "name": "stdout",
          "output_type": "stream",
          "text": [
            "Downloading...\n",
            "From: https://drive.google.com/uc?id=1lolhRD0s1Ns55w3pOp2AfXCMJ_PhQPCJ\n",
            "To: /content/winner_model_hp.h5\n",
            "100% 24.7M/24.7M [00:00<00:00, 143MB/s]\n"
          ]
        }
      ],
      "source": [
        "# #Downloading the tuned winner model from google drive\n",
        "# !gdown --fuzzy https://drive.google.com/file/d/1lolhRD0s1Ns55w3pOp2AfXCMJ_PhQPCJ/view?usp=share_link\n",
        "\n",
        "# # Load the winner model from the local storage\n",
        "# model = tf.keras.saving.load_model(\"/content/winner_model_hp.h5\")"
      ]
    },
    {
      "attachments": {},
      "cell_type": "markdown",
      "metadata": {},
      "source": [
        "## 4 - Performance Metrics"
      ]
    },
    {
      "cell_type": "code",
      "execution_count": null,
      "metadata": {
        "id": "0o_AOjM2efJP"
      },
      "outputs": [],
      "source": [
        "from sklearn.metrics import accuracy_score, precision_score, recall_score, f1_score, classification_report, confusion_matrix\n",
        "\n",
        "\n",
        "# Get the true labels and predicted labels for the test dataset\n",
        "true_labels = []\n",
        "pred_labels = []\n",
        "for images, labels in ds_test:\n",
        "    predictions = model.predict(images)\n",
        "    pred_labels += list(np.argmax(predictions, axis=1))\n",
        "    true_labels += list(np.argmax(labels.numpy(), axis=1))"
      ]
    },
    {
      "cell_type": "code",
      "execution_count": 23,
      "metadata": {
        "colab": {
          "base_uri": "https://localhost:8080/"
        },
        "id": "pS3EIR5mdKy_",
        "outputId": "6c5e99b1-094b-4427-b43a-ad0b3f4036a7"
      },
      "outputs": [
        {
          "name": "stdout",
          "output_type": "stream",
          "text": [
            "Accuracy: 0.764\n",
            "Precision: 0.7794\n",
            "Recall: 0.7557\n",
            "F1-score: 0.7573\n",
            "\n",
            "------------------ Classification Report ------------------\n",
            "\n",
            "                   precision    recall  f1-score   support\n",
            "\n",
            "AmericanFootball       0.84      0.77      0.80      2785\n",
            "      Basketball       0.85      0.55      0.67      2649\n",
            "      BikeRacing       0.80      0.69      0.74      2517\n",
            "       CarRacing       0.80      0.78      0.79      1817\n",
            "        Fighting       0.68      0.96      0.80      2856\n",
            "          Hockey       0.77      0.97      0.86      3050\n",
            "          Soccer       0.95      0.86      0.90      3272\n",
            "     TableTennis       0.79      0.54      0.64      2169\n",
            "          Tennis       0.60      0.67      0.63      3376\n",
            "      Volleyball       0.72      0.76      0.74      2957\n",
            "\n",
            "        accuracy                           0.76     27448\n",
            "       macro avg       0.78      0.76      0.76     27448\n",
            "    weighted avg       0.78      0.76      0.76     27448\n",
            "\n",
            "------------------ Confusion Matrix ------------------\n",
            "\n",
            " [[2147    0    0    4   30    0   55    0  548    1]\n",
            " [ 250 1447   49   16  596   65    0   96   27  103]\n",
            " [  22    0 1745  223    8  474   39    0    0    6]\n",
            " [   5   18  258 1425   42    3    0   51    0   15]\n",
            " [   6   65    1    4 2739   31    0    2    0    8]\n",
            " [   0    0    2    2   53 2971    0    2    0   20]\n",
            " [  56    0    0    0    0    0 2817    1  398    0]\n",
            " [   6    6   21   33  245   49    0 1162  521  126]\n",
            " [  65   70   24   36   14   88   66  153 2259  601]\n",
            " [   7   94   78   41  286  184    0   10    0 2257]]\n"
          ]
        }
      ],
      "source": [
        "# Calculate accuracy\n",
        "accuracy = accuracy_score(true_labels, pred_labels)\n",
        "\n",
        "# Calculate precision, recall, and f1-score\n",
        "precision = precision_score(true_labels, pred_labels, average='macro')\n",
        "recall = recall_score(true_labels, pred_labels, average='macro')\n",
        "f1 = f1_score(true_labels, pred_labels, average='macro')\n",
        "\n",
        "# Print the evaluation metrics\n",
        "print('Accuracy:', round(accuracy,4))\n",
        "print('Precision:', round(precision,4))\n",
        "print('Recall:', round(recall, 4))\n",
        "print('F1-score:', round(f1, 4))\n",
        "\n",
        "# Print the classification report\n",
        "target_names = ['AmericanFootball', 'Basketball', 'BikeRacing', 'CarRacing', 'Fighting', 'Hockey', 'Soccer', 'TableTennis', 'Tennis', 'Volleyball']\n",
        "print(\"\\n------------------ Classification Report ------------------\\n\\n\", classification_report(true_labels, pred_labels, target_names=target_names))\n",
        "\n",
        "# Print the confusion matrix\n",
        "print(\"------------------ Confusion Matrix ------------------\\n\\n\",confusion_matrix(true_labels, pred_labels))"
      ]
    }
  ],
  "metadata": {
    "accelerator": "GPU",
    "colab": {
      "machine_shape": "hm",
      "provenance": []
    },
    "gpuClass": "premium",
    "kernelspec": {
      "display_name": "Python 3",
      "name": "python3"
    },
    "language_info": {
      "name": "python"
    }
  },
  "nbformat": 4,
  "nbformat_minor": 0
}
